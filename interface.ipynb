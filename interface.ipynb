{
 "cells": [
  {
   "cell_type": "code",
   "execution_count": 1,
   "metadata": {},
   "outputs": [],
   "source": [
    "import sys\n",
    "from PyQt5.QtWidgets import QLabel, QApplication, QMainWindow, QTabWidget, QWidget, QVBoxLayout, QPushButton, QFileDialog, QScrollArea\n"
   ]
  },
  {
   "cell_type": "code",
   "execution_count": 2,
   "metadata": {},
   "outputs": [],
   "source": [
    "from profiling_tab import ProfilingTab"
   ]
  },
  {
   "cell_type": "code",
   "execution_count": 3,
   "metadata": {},
   "outputs": [],
   "source": [
    "from neo4j_connector import Neo4jConnector\n",
    "\n",
    "class IntegrationTab(QWidget):\n",
    "    def __init__(self):\n",
    "        super().__init__()\n",
    "        self.layout = QVBoxLayout(self)\n",
    "\n",
    "        self.load_button = QPushButton(\"Integrer par nom de colonne\")\n",
    "        self.load_button.clicked.connect(self.integrate_by_name)\n",
    "        self.layout.addWidget(self.load_button)\n",
    "\n",
    "        self.result_label = QLabel()\n",
    "        self.layout.addWidget(self.result_label)\n",
    "\n",
    "    def integrate_by_name(self):\n",
    "        uri = \"bolt://localhost:7687/test\"\n",
    "        user = \"neo4j\"\n",
    "        password = \"LogisticData\"\n",
    "\n",
    "        connector = Neo4jConnector()\n",
    "        connector.connect(uri, user, password)\n",
    "        result = connector.integrate_by_name()\n",
    "        \n",
    "\n",
    "    \n"
   ]
  },
  {
   "cell_type": "code",
   "execution_count": 4,
   "metadata": {},
   "outputs": [],
   "source": [
    "class MainApp(QMainWindow):\n",
    "    def __init__(self):\n",
    "        super().__init__()\n",
    "\n",
    "        self.setWindowTitle('Interface avec Onglets')\n",
    "        self.setGeometry(100, 100, 800, 600)\n",
    "\n",
    "        central_widget = QTabWidget(self)\n",
    "\n",
    "        profiling_tab = ProfilingTab()\n",
    "        central_widget.addTab(profiling_tab, \"Profilage\")\n",
    "\n",
    "        analysis_tab = IntegrationTab()\n",
    "        central_widget.addTab(analysis_tab, \"Integration\")\n",
    "\n",
    "        learning_tab = QWidget()\n",
    "        learning_layout = QVBoxLayout(learning_tab)\n",
    "        learning_layout.addWidget(QPushButton(\"Fonctionnalités d'apprentissage vont ici.\"))\n",
    "        central_widget.addTab(learning_tab, \"Analyse\")\n",
    "\n",
    "        self.setCentralWidget(central_widget)"
   ]
  },
  {
   "cell_type": "code",
   "execution_count": 5,
   "metadata": {},
   "outputs": [
    {
     "name": "stdout",
     "output_type": "stream",
     "text": [
      "Valeur distinnctes sélectionné pour la colonne Plant Code\n",
      "Valeur la plus fréquente sélectionné pour la colonne Plant Code\n",
      "Nombre de valeurs manquantes sélectionné pour la colonne Plant Code\n",
      "Histogramme sélectionné pour la colonne Plant Code\n",
      "Valeur distinnctes sélectionné pour la colonne Product ID\n",
      "Valeur la plus fréquente sélectionné pour la colonne Product ID\n",
      "Nombre de valeurs manquantes sélectionné pour la colonne Product ID\n",
      "Box plot sélectionné pour la colonne Product ID\n",
      "Statistiques sélectionné pour la colonne Product ID\n",
      "Calcul pour Plant Code : Done\n",
      "Calcul pour Product ID : Done\n",
      "********* ProductsPerPlant\n",
      "SAVE -- nom : Plant Code - type : <class 'str'>\n",
      "saved for :  Plant Code\n",
      "********* ProductsPerPlant\n",
      "SAVE -- nom : Product ID - type : <class 'str'>\n",
      "saved for :  Product ID\n"
     ]
    },
    {
     "ename": "SystemExit",
     "evalue": "0",
     "output_type": "error",
     "traceback": [
      "An exception has occurred, use %tb to see the full traceback.\n",
      "\u001b[0;31mSystemExit\u001b[0m\u001b[0;31m:\u001b[0m 0\n"
     ]
    },
    {
     "name": "stderr",
     "output_type": "stream",
     "text": [
      "/Users/Roberto/opt/anaconda3/lib/python3.8/site-packages/IPython/core/interactiveshell.py:3445: UserWarning: To exit: use 'exit', 'quit', or Ctrl-D.\n",
      "  warn(\"To exit: use 'exit', 'quit', or Ctrl-D.\", stacklevel=1)\n"
     ]
    }
   ],
   "source": [
    "def main():\n",
    "    app = QApplication(sys.argv)\n",
    "    app.setStyle('GTK')\n",
    "    window = MainApp()\n",
    "    window.show()\n",
    "    sys.exit(app.exec_())\n",
    "\n",
    "if __name__ == '__main__':\n",
    "    main()\n"
   ]
  },
  {
   "cell_type": "code",
   "execution_count": null,
   "metadata": {},
   "outputs": [],
   "source": []
  },
  {
   "cell_type": "markdown",
   "metadata": {},
   "source": []
  }
 ],
 "metadata": {
  "kernelspec": {
   "display_name": "Python 3",
   "language": "python",
   "name": "python3"
  },
  "language_info": {
   "codemirror_mode": {
    "name": "ipython",
    "version": 3
   },
   "file_extension": ".py",
   "mimetype": "text/x-python",
   "name": "python",
   "nbconvert_exporter": "python",
   "pygments_lexer": "ipython3",
   "version": "3.8.8"
  }
 },
 "nbformat": 4,
 "nbformat_minor": 2
}
