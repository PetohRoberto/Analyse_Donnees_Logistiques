{
 "cells": [
  {
   "cell_type": "code",
   "execution_count": 1,
   "metadata": {},
   "outputs": [
    {
     "name": "stdout",
     "output_type": "stream",
     "text": [
      "Requirement already satisfied: flask in /Users/Roberto/opt/anaconda3/lib/python3.8/site-packages (2.2.5)\n",
      "Requirement already satisfied: click>=8.0 in /Users/Roberto/opt/anaconda3/lib/python3.8/site-packages (from flask) (8.1.7)\n",
      "Requirement already satisfied: Jinja2>=3.0 in /Users/Roberto/opt/anaconda3/lib/python3.8/site-packages (from flask) (3.0.3)\n",
      "Requirement already satisfied: importlib-metadata>=3.6.0 in /Users/Roberto/opt/anaconda3/lib/python3.8/site-packages (from flask) (7.0.0)\n",
      "Requirement already satisfied: Werkzeug>=2.2.2 in /Users/Roberto/opt/anaconda3/lib/python3.8/site-packages (from flask) (3.0.1)\n",
      "Requirement already satisfied: itsdangerous>=2.0 in /Users/Roberto/opt/anaconda3/lib/python3.8/site-packages (from flask) (2.1.2)\n",
      "Requirement already satisfied: zipp>=0.5 in /Users/Roberto/opt/anaconda3/lib/python3.8/site-packages (from importlib-metadata>=3.6.0->flask) (3.4.1)\n",
      "Requirement already satisfied: MarkupSafe>=2.0 in /Users/Roberto/opt/anaconda3/lib/python3.8/site-packages (from Jinja2>=3.0->flask) (2.1.3)\n"
     ]
    }
   ],
   "source": [
    "! pip install flask"
   ]
  },
  {
   "cell_type": "code",
   "execution_count": 7,
   "metadata": {},
   "outputs": [],
   "source": [
    "from watchdog.events import EVENT_TYPE_CREATED, EVENT_TYPE_MODIFIED"
   ]
  },
  {
   "cell_type": "code",
   "execution_count": 8,
   "metadata": {},
   "outputs": [
    {
     "name": "stdout",
     "output_type": "stream",
     "text": [
      " * Serving Flask app '__main__'\n",
      " * Debug mode: on\n"
     ]
    },
    {
     "name": "stderr",
     "output_type": "stream",
     "text": [
      "INFO:werkzeug:\u001b[31m\u001b[1mWARNING: This is a development server. Do not use it in a production deployment. Use a production WSGI server instead.\u001b[0m\n",
      " * Running on http://127.0.0.1:5001\n",
      "INFO:werkzeug:\u001b[33mPress CTRL+C to quit\u001b[0m\n"
     ]
    },
    {
     "ename": "ImportError",
     "evalue": "cannot import name 'EVENT_TYPE_OPENED' from 'watchdog.events' (/Users/Roberto/opt/anaconda3/lib/python3.8/site-packages/watchdog/events.py)",
     "output_type": "error",
     "traceback": [
      "\u001b[0;31m---------------------------------------------------------------------------\u001b[0m",
      "\u001b[0;31mImportError\u001b[0m                               Traceback (most recent call last)",
      "\u001b[0;32m<ipython-input-8-267118274e20>\u001b[0m in \u001b[0;36m<module>\u001b[0;34m\u001b[0m\n\u001b[1;32m    112\u001b[0m \u001b[0;34m\u001b[0m\u001b[0m\n\u001b[1;32m    113\u001b[0m \u001b[0;32mif\u001b[0m \u001b[0m__name__\u001b[0m \u001b[0;34m==\u001b[0m \u001b[0;34m'__main__'\u001b[0m\u001b[0;34m:\u001b[0m\u001b[0;34m\u001b[0m\u001b[0;34m\u001b[0m\u001b[0m\n\u001b[0;32m--> 114\u001b[0;31m     \u001b[0mapp\u001b[0m\u001b[0;34m.\u001b[0m\u001b[0mrun\u001b[0m\u001b[0;34m(\u001b[0m\u001b[0mport\u001b[0m\u001b[0;34m=\u001b[0m\u001b[0;36m5001\u001b[0m\u001b[0;34m,\u001b[0m \u001b[0mdebug\u001b[0m\u001b[0;34m=\u001b[0m\u001b[0;32mTrue\u001b[0m\u001b[0;34m)\u001b[0m\u001b[0;34m\u001b[0m\u001b[0;34m\u001b[0m\u001b[0m\n\u001b[0m",
      "\u001b[0;32m~/opt/anaconda3/lib/python3.8/site-packages/flask/app.py\u001b[0m in \u001b[0;36mrun\u001b[0;34m(self, host, port, debug, load_dotenv, **options)\u001b[0m\n\u001b[1;32m   1189\u001b[0m \u001b[0;34m\u001b[0m\u001b[0m\n\u001b[1;32m   1190\u001b[0m         \u001b[0;32mtry\u001b[0m\u001b[0;34m:\u001b[0m\u001b[0;34m\u001b[0m\u001b[0;34m\u001b[0m\u001b[0m\n\u001b[0;32m-> 1191\u001b[0;31m             \u001b[0mrun_simple\u001b[0m\u001b[0;34m(\u001b[0m\u001b[0mt\u001b[0m\u001b[0;34m.\u001b[0m\u001b[0mcast\u001b[0m\u001b[0;34m(\u001b[0m\u001b[0mstr\u001b[0m\u001b[0;34m,\u001b[0m \u001b[0mhost\u001b[0m\u001b[0;34m)\u001b[0m\u001b[0;34m,\u001b[0m \u001b[0mport\u001b[0m\u001b[0;34m,\u001b[0m \u001b[0mself\u001b[0m\u001b[0;34m,\u001b[0m \u001b[0;34m**\u001b[0m\u001b[0moptions\u001b[0m\u001b[0;34m)\u001b[0m\u001b[0;34m\u001b[0m\u001b[0;34m\u001b[0m\u001b[0m\n\u001b[0m\u001b[1;32m   1192\u001b[0m         \u001b[0;32mfinally\u001b[0m\u001b[0;34m:\u001b[0m\u001b[0;34m\u001b[0m\u001b[0;34m\u001b[0m\u001b[0m\n\u001b[1;32m   1193\u001b[0m             \u001b[0;31m# reset the first request information if the development server\u001b[0m\u001b[0;34m\u001b[0m\u001b[0;34m\u001b[0m\u001b[0;34m\u001b[0m\u001b[0m\n",
      "\u001b[0;32m~/opt/anaconda3/lib/python3.8/site-packages/werkzeug/serving.py\u001b[0m in \u001b[0;36mrun_simple\u001b[0;34m(hostname, port, application, use_reloader, use_debugger, use_evalex, extra_files, exclude_patterns, reloader_interval, reloader_type, threaded, processes, request_handler, static_files, passthrough_errors, ssl_context)\u001b[0m\n\u001b[1;32m   1097\u001b[0m \u001b[0;34m\u001b[0m\u001b[0m\n\u001b[1;32m   1098\u001b[0m         \u001b[0;32mtry\u001b[0m\u001b[0;34m:\u001b[0m\u001b[0;34m\u001b[0m\u001b[0;34m\u001b[0m\u001b[0m\n\u001b[0;32m-> 1099\u001b[0;31m             run_with_reloader(\n\u001b[0m\u001b[1;32m   1100\u001b[0m                 \u001b[0msrv\u001b[0m\u001b[0;34m.\u001b[0m\u001b[0mserve_forever\u001b[0m\u001b[0;34m,\u001b[0m\u001b[0;34m\u001b[0m\u001b[0;34m\u001b[0m\u001b[0m\n\u001b[1;32m   1101\u001b[0m                 \u001b[0mextra_files\u001b[0m\u001b[0;34m=\u001b[0m\u001b[0mextra_files\u001b[0m\u001b[0;34m,\u001b[0m\u001b[0;34m\u001b[0m\u001b[0;34m\u001b[0m\u001b[0m\n",
      "\u001b[0;32m~/opt/anaconda3/lib/python3.8/site-packages/werkzeug/_reloader.py\u001b[0m in \u001b[0;36mrun_with_reloader\u001b[0;34m(main_func, extra_files, exclude_patterns, interval, reloader_type)\u001b[0m\n\u001b[1;32m    438\u001b[0m \u001b[0;34m\u001b[0m\u001b[0m\n\u001b[1;32m    439\u001b[0m     \u001b[0msignal\u001b[0m\u001b[0;34m.\u001b[0m\u001b[0msignal\u001b[0m\u001b[0;34m(\u001b[0m\u001b[0msignal\u001b[0m\u001b[0;34m.\u001b[0m\u001b[0mSIGTERM\u001b[0m\u001b[0;34m,\u001b[0m \u001b[0;32mlambda\u001b[0m \u001b[0;34m*\u001b[0m\u001b[0margs\u001b[0m\u001b[0;34m:\u001b[0m \u001b[0msys\u001b[0m\u001b[0;34m.\u001b[0m\u001b[0mexit\u001b[0m\u001b[0;34m(\u001b[0m\u001b[0;36m0\u001b[0m\u001b[0;34m)\u001b[0m\u001b[0;34m)\u001b[0m\u001b[0;34m\u001b[0m\u001b[0;34m\u001b[0m\u001b[0m\n\u001b[0;32m--> 440\u001b[0;31m     reloader = reloader_loops[reloader_type](\n\u001b[0m\u001b[1;32m    441\u001b[0m         \u001b[0mextra_files\u001b[0m\u001b[0;34m=\u001b[0m\u001b[0mextra_files\u001b[0m\u001b[0;34m,\u001b[0m \u001b[0mexclude_patterns\u001b[0m\u001b[0;34m=\u001b[0m\u001b[0mexclude_patterns\u001b[0m\u001b[0;34m,\u001b[0m \u001b[0minterval\u001b[0m\u001b[0;34m=\u001b[0m\u001b[0minterval\u001b[0m\u001b[0;34m\u001b[0m\u001b[0;34m\u001b[0m\u001b[0m\n\u001b[1;32m    442\u001b[0m     )\n",
      "\u001b[0;32m~/opt/anaconda3/lib/python3.8/site-packages/werkzeug/_reloader.py\u001b[0m in \u001b[0;36m__init__\u001b[0;34m(self, *args, **kwargs)\u001b[0m\n\u001b[1;32m    313\u001b[0m         \u001b[0;32mfrom\u001b[0m \u001b[0mwatchdog\u001b[0m\u001b[0;34m.\u001b[0m\u001b[0mobservers\u001b[0m \u001b[0;32mimport\u001b[0m \u001b[0mObserver\u001b[0m\u001b[0;34m\u001b[0m\u001b[0;34m\u001b[0m\u001b[0m\n\u001b[1;32m    314\u001b[0m         \u001b[0;32mfrom\u001b[0m \u001b[0mwatchdog\u001b[0m\u001b[0;34m.\u001b[0m\u001b[0mevents\u001b[0m \u001b[0;32mimport\u001b[0m \u001b[0mPatternMatchingEventHandler\u001b[0m\u001b[0;34m\u001b[0m\u001b[0;34m\u001b[0m\u001b[0m\n\u001b[0;32m--> 315\u001b[0;31m         \u001b[0;32mfrom\u001b[0m \u001b[0mwatchdog\u001b[0m\u001b[0;34m.\u001b[0m\u001b[0mevents\u001b[0m \u001b[0;32mimport\u001b[0m \u001b[0mEVENT_TYPE_OPENED\u001b[0m\u001b[0;34m\u001b[0m\u001b[0;34m\u001b[0m\u001b[0m\n\u001b[0m\u001b[1;32m    316\u001b[0m         \u001b[0;32mfrom\u001b[0m \u001b[0mwatchdog\u001b[0m\u001b[0;34m.\u001b[0m\u001b[0mevents\u001b[0m \u001b[0;32mimport\u001b[0m \u001b[0mFileModifiedEvent\u001b[0m\u001b[0;34m\u001b[0m\u001b[0;34m\u001b[0m\u001b[0m\n\u001b[1;32m    317\u001b[0m \u001b[0;34m\u001b[0m\u001b[0m\n",
      "\u001b[0;31mImportError\u001b[0m: cannot import name 'EVENT_TYPE_OPENED' from 'watchdog.events' (/Users/Roberto/opt/anaconda3/lib/python3.8/site-packages/watchdog/events.py)"
     ]
    }
   ],
   "source": [
    "from flask import Flask, render_template, request, jsonify\n",
    "import pandas as pd\n",
    "import matplotlib.pyplot as plt\n",
    "from io import BytesIO\n",
    "import base64\n",
    "from datetime import datetime\n",
    "from pathlib import Path\n",
    "\n",
    "app = Flask(__name__)\n",
    "\n",
    "class DataFrameAnalyzer:\n",
    "    def __init__(self):\n",
    "        self.df = None\n",
    "        self.operations = [\"Statistiques\", \"Valeur la plus fréquente\", \"Valeurs distinctes\", \"Valeurs manquantes\", \"Histogrammes\", \"Box Plot\"]\n",
    "        self.results_df = pd.DataFrame()\n",
    "        self.file_name = None\n",
    "        self.file_path = None\n",
    "\n",
    "    def analyze(self, selected_columns):\n",
    "        results_data = []\n",
    "\n",
    "        for column in selected_columns:\n",
    "            result_texts = []\n",
    "\n",
    "            for operation in self.operations:\n",
    "                if operation == \"Valeur la plus fréquente\":\n",
    "                    result_texts.append((\"Valeur la plus fréquente\", self.df[column].mode().iloc[0]))\n",
    "                elif operation == \"Valeurs distinctes\":\n",
    "                    result_texts.append((\"Valeurs distinctes\", f\"{', '.join(map(str, self.df[column].unique()))}\"))\n",
    "                elif operation == \"Valeurs manquantes\":\n",
    "                    result_texts.append((\"Missing\", self.df[column].isnull().mean() * 100))\n",
    "                elif operation == \"Statistiques\":\n",
    "                    if pd.api.types.is_numeric_dtype(self.df[column]):\n",
    "                        result_texts.append((\"min\", self.df[column].min()))\n",
    "                        result_texts.append((\"mean\", self.df[column].mean()))\n",
    "                        result_texts.append((\"max\", self.df[column].max()))\n",
    "                        result_texts.append((\"std\", self.df[column].std()))\n",
    "                    else:\n",
    "                        result_texts.append((f\"La colonne {column} n'est pas numérique, pas de stats possibles\", None))\n",
    "                elif operation == \"Histogrammes\":\n",
    "                    image_path = self.create_image(column, chart=\"histogram\")\n",
    "                    result_texts.append((\"histogram\", image_path))\n",
    "                elif operation == \"Box Plot\":\n",
    "                    if pd.api.types.is_numeric_dtype(self.df[column]):\n",
    "                        image_path = self.create_image(column, chart=\"box plot\")\n",
    "                        result_texts.append((\"box plot\", image_path))\n",
    "                    else:\n",
    "                        result_texts.append((f\"La colonne {column} n'est pas numérique, box plot impossible\", None))\n",
    "\n",
    "            results_data.append({\"Colonne\": column, \"Resultats\": result_texts})\n",
    "\n",
    "        self.results_df = pd.DataFrame(results_data)\n",
    "\n",
    "    def create_image(self, column, chart):\n",
    "        data = self.df[column]\n",
    "        figure, ax = plt.subplots(figsize=(4, 3))\n",
    "\n",
    "        if chart == \"histogram\":\n",
    "            ax.hist(data, bins='auto')\n",
    "            ax.set_title(f'Histogramme de {column}')\n",
    "        elif chart == \"box plot\":\n",
    "            ax.boxplot(data)\n",
    "            ax.set_title(f'Box plot de {column}')\n",
    "\n",
    "        image_path = self.save_image(figure, column, chart)\n",
    "        plt.close(figure)\n",
    "        return image_path\n",
    "\n",
    "    def save_image(self, figure, column, chart, save_path='static/images'):\n",
    "        if not Path(save_path).exists():\n",
    "            Path(save_path).mkdir(parents=True)\n",
    "\n",
    "        current_datetime = datetime.now().strftime(\"%Y%m%d_%H%M%S\")\n",
    "        file_name = f\"{column}_{chart.replace(' ', '_')}_{current_datetime}.png\"\n",
    "        file_path = Path(save_path) / file_name\n",
    "        figure.savefig(file_path)\n",
    "        return f'/{file_path}'\n",
    "\n",
    "    def load_file(self, file_path):\n",
    "        if file_path:\n",
    "            if file_path.endswith('.csv'):\n",
    "                self.df = pd.read_csv(file_path)\n",
    "            elif file_path.endswith('.xlsx'):\n",
    "                self.df = pd.read_excel(file_path)\n",
    "            else:\n",
    "                return \"Format de fichier non pris en charge.\"\n",
    "\n",
    "            self.file_name = Path(file_path).name\n",
    "            self.file_path = file_path\n",
    "            return None\n",
    "        return \"Erreur lors du chargement du fichier.\"\n",
    "\n",
    "data_frame_analyzer = DataFrameAnalyzer()\n",
    "\n",
    "@app.route('/')\n",
    "def index():\n",
    "    return render_template('index.html')\n",
    "\n",
    "@app.route('/load_file', methods=['POST'])\n",
    "def load_file():\n",
    "    file_path = request.form.get('file_path')\n",
    "    error = data_frame_analyzer.load_file(file_path)\n",
    "    if error:\n",
    "        return jsonify({\"error\": error})\n",
    "    return jsonify({\"success\": True, \"file_name\": data_frame_analyzer.file_name})\n",
    "\n",
    "@app.route('/analyze', methods=['POST'])\n",
    "def analyze():\n",
    "    selected_columns = request.form.getlist('selected_columns[]')\n",
    "    data_frame_analyzer.analyze(selected_columns)\n",
    "    return jsonify({\"success\": True, \"results\": data_frame_analyzer.results_df.to_dict(orient='records')})\n",
    "\n",
    "if __name__ == '__main__':\n",
    "    app.run(port=5001, debug=True)\n"
   ]
  },
  {
   "cell_type": "code",
   "execution_count": null,
   "metadata": {},
   "outputs": [],
   "source": []
  }
 ],
 "metadata": {
  "kernelspec": {
   "display_name": "Python 3",
   "language": "python",
   "name": "python3"
  },
  "language_info": {
   "codemirror_mode": {
    "name": "ipython",
    "version": 3
   },
   "file_extension": ".py",
   "mimetype": "text/x-python",
   "name": "python",
   "nbconvert_exporter": "python",
   "pygments_lexer": "ipython3",
   "version": "3.8.8"
  }
 },
 "nbformat": 4,
 "nbformat_minor": 2
}
