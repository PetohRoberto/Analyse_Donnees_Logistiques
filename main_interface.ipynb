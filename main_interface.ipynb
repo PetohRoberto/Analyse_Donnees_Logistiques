{
 "cells": [
  {
   "cell_type": "code",
   "execution_count": 1,
   "metadata": {},
   "outputs": [],
   "source": [
    "import sys\n",
    "from PyQt5.QtWidgets import QApplication, QMainWindow, QTabWidget\n"
   ]
  },
  {
   "cell_type": "code",
   "execution_count": 2,
   "metadata": {},
   "outputs": [],
   "source": [
    "from profiling_tab import ProfilingTab\n",
    "from integration_tab import IntegrationTab\n",
    "from analysis_tab import AnalysisTab"
   ]
  },
  {
   "cell_type": "code",
   "execution_count": 3,
   "metadata": {},
   "outputs": [],
   "source": [
    "class MainApp(QMainWindow):\n",
    "    def __init__(self):\n",
    "        super().__init__()\n",
    "\n",
    "        self.setWindowTitle('Interface avec Onglets')\n",
    "        self.setGeometry(100, 100, 800, 600)\n",
    "\n",
    "        central_widget = QTabWidget(self)\n",
    "\n",
    "        profiling_tab = ProfilingTab()\n",
    "        central_widget.addTab(profiling_tab, \"Profilage\")\n",
    "\n",
    "        integration_tab = IntegrationTab()\n",
    "        central_widget.addTab(integration_tab, \"Integration\")\n",
    "\n",
    "        analysis_tab = AnalysisTab()\n",
    "        central_widget.addTab(analysis_tab, \"Analyse\")\n",
    "\n",
    "        self.setCentralWidget(central_widget)"
   ]
  },
  {
   "cell_type": "code",
   "execution_count": 4,
   "metadata": {},
   "outputs": [
    {
     "name": "stdout",
     "output_type": "stream",
     "text": [
      "compter les nom similaires sélectionné\n",
      "compter les correspondances sélectionné\n",
      "compter les analyses similaires sélectionné\n",
      "get sim by names ...\n",
      "get corresp columns ...\n",
      "get sim analysis columns...\n",
      "No match per analysis found\n",
      "DataCoSupplyChainDataset.csv--DataCoSupplyChainDataset.csv--OrderList--Supply chain logisitcs problem.xlsx 7\n",
      "integration\n",
      "integration\n",
      "integration\n",
      "integration\n",
      "integration\n",
      "integration\n",
      "DataCoSupplyChainDataset.csv--DataCoSupplyChainDataset.csv--OrderList--Supply chain logisitcs problem.xlsx\n",
      "DataCoSupplyChainDataset.csv--DataCoSupplyChainDataset.csv--estat_isoc_eb_ics_en--estat_isoc_eb_ics_en.csv\n"
     ]
    }
   ],
   "source": [
    "def main():\n",
    "    app = QApplication(sys.argv)\n",
    "    app.setStyle('GTK')\n",
    "    window = MainApp()\n",
    "    window.show()\n",
    "    sys.exit(app.exec_())\n",
    "\n",
    "if __name__ == '__main__':\n",
    "    main()\n"
   ]
  },
  {
   "cell_type": "markdown",
   "metadata": {},
   "source": []
  },
  {
   "cell_type": "markdown",
   "metadata": {},
   "source": []
  }
 ],
 "metadata": {
  "kernelspec": {
   "display_name": "Python 3",
   "language": "python",
   "name": "python3"
  },
  "language_info": {
   "codemirror_mode": {
    "name": "ipython",
    "version": 3
   },
   "file_extension": ".py",
   "mimetype": "text/x-python",
   "name": "python",
   "nbconvert_exporter": "python",
   "pygments_lexer": "ipython3",
   "version": "3.8.8"
  }
 },
 "nbformat": 4,
 "nbformat_minor": 2
}
