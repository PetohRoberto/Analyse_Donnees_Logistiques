{
 "cells": [
  {
   "cell_type": "code",
   "execution_count": 5,
   "metadata": {},
   "outputs": [],
   "source": [
    "import sys\n",
    "from PyQt5.QtWidgets import QApplication, QMainWindow, QTabWidget, QWidget, QVBoxLayout, QPushButton\n"
   ]
  },
  {
   "cell_type": "code",
   "execution_count": 6,
   "metadata": {},
   "outputs": [],
   "source": [
    "from profiling_tab import ProfilingTab\n",
    "from integration_tab import IntegrationTab"
   ]
  },
  {
   "cell_type": "code",
   "execution_count": 7,
   "metadata": {},
   "outputs": [],
   "source": [
    "class MainApp(QMainWindow):\n",
    "    def __init__(self):\n",
    "        super().__init__()\n",
    "\n",
    "        self.setWindowTitle('Interface avec Onglets')\n",
    "        self.setGeometry(100, 100, 800, 600)\n",
    "\n",
    "        central_widget = QTabWidget(self)\n",
    "\n",
    "        profiling_tab = ProfilingTab()\n",
    "        central_widget.addTab(profiling_tab, \"Profilage\")\n",
    "\n",
    "        analysis_tab = IntegrationTab()\n",
    "        central_widget.addTab(analysis_tab, \"Integration\")\n",
    "\n",
    "        learning_tab = QWidget()\n",
    "        learning_layout = QVBoxLayout(learning_tab)\n",
    "        learning_layout.addWidget(QPushButton(\"Fonctionnalités d'apprentissage vont ici.\"))\n",
    "        central_widget.addTab(learning_tab, \"Analyse\")\n",
    "\n",
    "        self.setCentralWidget(central_widget)"
   ]
  },
  {
   "cell_type": "code",
   "execution_count": 8,
   "metadata": {},
   "outputs": [
    {
     "name": "stdout",
     "output_type": "stream",
     "text": [
      "integration par nom terminée\n",
      "Total de 0 paire(s) de clonnes intégrées\n",
      "integration par Analyse profil terminée\n",
      "Total de 0 paire(s) de clonnes intégrées\n"
     ]
    },
    {
     "ename": "SystemExit",
     "evalue": "0",
     "output_type": "error",
     "traceback": [
      "An exception has occurred, use %tb to see the full traceback.\n",
      "\u001b[0;31mSystemExit\u001b[0m\u001b[0;31m:\u001b[0m 0\n"
     ]
    }
   ],
   "source": [
    "def main():\n",
    "    app = QApplication(sys.argv)\n",
    "    app.setStyle('GTK')\n",
    "    window = MainApp()\n",
    "    window.show()\n",
    "    sys.exit(app.exec_())\n",
    "\n",
    "if __name__ == '__main__':\n",
    "    main()\n"
   ]
  },
  {
   "cell_type": "markdown",
   "metadata": {},
   "source": []
  }
 ],
 "metadata": {
  "kernelspec": {
   "display_name": "Python 3",
   "language": "python",
   "name": "python3"
  },
  "language_info": {
   "codemirror_mode": {
    "name": "ipython",
    "version": 3
   },
   "file_extension": ".py",
   "mimetype": "text/x-python",
   "name": "python",
   "nbconvert_exporter": "python",
   "pygments_lexer": "ipython3",
   "version": "3.8.8"
  }
 },
 "nbformat": 4,
 "nbformat_minor": 2
}
